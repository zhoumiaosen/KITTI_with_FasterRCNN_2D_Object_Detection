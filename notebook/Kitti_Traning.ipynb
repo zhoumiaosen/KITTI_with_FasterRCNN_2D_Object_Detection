{
  "cells": [
    {
      "cell_type": "code",
      "execution_count": null,
      "id": "27ba2938-76be-4ee2-b22e-9d73384835b2",
      "metadata": {
        "id": "27ba2938-76be-4ee2-b22e-9d73384835b2",
        "outputId": "f8abfc71-5524-45ae-b98f-7626bc1478c6"
      },
      "outputs": [
        {
          "name": "stdout",
          "output_type": "stream",
          "text": [
            "/fs/atipa/data/cmpe258-sp24/miaosen/CMPE249/HW_1/working\n"
          ]
        }
      ],
      "source": [
        "%cd /data/cmpe258-sp24/miaosen/CMPE249/HW_1/working"
      ]
    },
    {
      "cell_type": "code",
      "execution_count": null,
      "id": "2a9e501f-1819-4293-93ec-fa69c0d55c3f",
      "metadata": {
        "id": "2a9e501f-1819-4293-93ec-fa69c0d55c3f",
        "outputId": "d0878c2b-393b-4ba3-b4fc-a5147e50fb4f"
      },
      "outputs": [
        {
          "name": "stdout",
          "output_type": "stream",
          "text": [
            "final_model_2.pth  final_model.pth  Kitti\n"
          ]
        }
      ],
      "source": [
        "!ls"
      ]
    },
    {
      "cell_type": "code",
      "execution_count": null,
      "id": "7521303e-57b7-4e89-ba73-e86e69654b8a",
      "metadata": {
        "id": "7521303e-57b7-4e89-ba73-e86e69654b8a",
        "outputId": "4da24980-32fb-43ca-82a3-c1175e06156f"
      },
      "outputs": [
        {
          "name": "stdout",
          "output_type": "stream",
          "text": [
            "2.4.1\n",
            "0.19.1\n"
          ]
        }
      ],
      "source": [
        "import torch\n",
        "import torchvision\n",
        "print(torch.__version__)\n",
        "print(torchvision.__version__)"
      ]
    },
    {
      "cell_type": "code",
      "execution_count": null,
      "id": "81529bb6-85cb-4ba0-b3a1-c64de1e69a36",
      "metadata": {
        "id": "81529bb6-85cb-4ba0-b3a1-c64de1e69a36",
        "outputId": "04b6641d-06ae-461c-b895-b865744c15bf"
      },
      "outputs": [
        {
          "name": "stdout",
          "output_type": "stream",
          "text": [
            "False\n",
            "0\n"
          ]
        },
        {
          "name": "stderr",
          "output_type": "stream",
          "text": [
            "/data/cmpe258-sp24/miaosen/miniconda3/envs/CMPE249py311/lib/python3.11/site-packages/torch/cuda/__init__.py:128: UserWarning: CUDA initialization: The NVIDIA driver on your system is too old (found version 10010). Please update your GPU driver by downloading and installing a new version from the URL: http://www.nvidia.com/Download/index.aspx Alternatively, go to: https://pytorch.org to install a PyTorch version that has been compiled with your version of the CUDA driver. (Triggered internally at /opt/conda/conda-bld/pytorch_1724789145202/work/c10/cuda/CUDAFunctions.cpp:108.)\n",
            "  return torch._C._cuda_getDeviceCount() > 0\n",
            "/data/cmpe258-sp24/miaosen/miniconda3/envs/CMPE249py311/lib/python3.11/site-packages/torch/cuda/__init__.py:654: UserWarning: Can't initialize NVML\n",
            "  warnings.warn(\"Can't initialize NVML\")\n"
          ]
        }
      ],
      "source": [
        "print(torch.cuda.is_available())\n",
        "print(torch.cuda.device_count())\n",
        "device = torch.device('cuda') if torch.cuda.is_available() else torch.device('cpu')"
      ]
    },
    {
      "cell_type": "code",
      "source": [
        "#creating the symlink for detection\n",
        "!git clone https://github.com/lkk688/DeepDataMiningLearning.git\n",
        "%cd DeepDataMiningLearning\n",
        "!pip install flit\n",
        "!flit install --symlink"
      ],
      "metadata": {
        "id": "7RI4VpKgOPMV"
      },
      "id": "7RI4VpKgOPMV",
      "execution_count": null,
      "outputs": []
    },
    {
      "cell_type": "code",
      "execution_count": null,
      "id": "0c082d0b-2e73-49ae-aa1d-b3dd8ae7bec8",
      "metadata": {
        "id": "0c082d0b-2e73-49ae-aa1d-b3dd8ae7bec8"
      },
      "outputs": [],
      "source": [
        "from DeepDataMiningLearning.detection.dataset_kitti import MyKittiDetection"
      ]
    },
    {
      "cell_type": "code",
      "execution_count": null,
      "id": "0f667148-c293-4e42-a604-aaf737b9806f",
      "metadata": {
        "id": "0f667148-c293-4e42-a604-aaf737b9806f"
      },
      "outputs": [],
      "source": [
        "import DeepDataMiningLearning.detection.transforms as T\n",
        "def get_transformsimple(train):\n",
        "    transforms = []\n",
        "    transforms.append(T.PILToTensor())\n",
        "    transforms.append(T.ToDtype(torch.float, scale=True))\n",
        "    # if train:\n",
        "    #     transforms.append(RandomHorizontalFlip(0.5))\n",
        "    return T.Compose(transforms)"
      ]
    },
    {
      "cell_type": "code",
      "execution_count": null,
      "id": "0c5c3428-4271-4a39-93cb-f939f027c1c1",
      "metadata": {
        "id": "0c5c3428-4271-4a39-93cb-f939f027c1c1"
      },
      "outputs": [],
      "source": [
        "rootPath='/data/cmpe258-sp24/miaosen/CMPE249/HW_1/working/Kitti'\n",
        "is_train = True\n",
        "kittidataset = MyKittiDetection(rootPath, train=True, transform=get_transformsimple(is_train))"
      ]
    },
    {
      "cell_type": "code",
      "execution_count": null,
      "id": "31b09253-54ec-4670-8470-e5b00b67f19f",
      "metadata": {
        "id": "31b09253-54ec-4670-8470-e5b00b67f19f",
        "outputId": "a1858e7e-6ba1-49a8-dbc5-9be56075fc63"
      },
      "outputs": [
        {
          "name": "stdout",
          "output_type": "stream",
          "text": [
            "['Car', 'Van', 'Truck', 'Pedestrian', 'Person_sitting', 'Cyclist', 'Tram', 'Misc', 'DontCare']\n"
          ]
        }
      ],
      "source": [
        "print(kittidataset.INSTANCE_CATEGORY_NAMES)"
      ]
    },
    {
      "cell_type": "code",
      "execution_count": null,
      "id": "48e7accb-c5de-4dcb-9671-f1f5c66a5468",
      "metadata": {
        "id": "48e7accb-c5de-4dcb-9671-f1f5c66a5468",
        "outputId": "33c112cb-dd98-400a-8e23-2f4984a43766"
      },
      "outputs": [
        {
          "name": "stdout",
          "output_type": "stream",
          "text": [
            "Dataset len: 7481\n"
          ]
        }
      ],
      "source": [
        "print(\"Dataset len:\", len(kittidataset))"
      ]
    },
    {
      "cell_type": "code",
      "execution_count": null,
      "id": "0d53650e-0228-4023-87dd-1e80bd2fc673",
      "metadata": {
        "id": "0d53650e-0228-4023-87dd-1e80bd2fc673"
      },
      "outputs": [],
      "source": [
        "img, target = kittidataset[0]"
      ]
    },
    {
      "cell_type": "code",
      "execution_count": null,
      "id": "ab9389ae-1957-4b19-9ef3-c69e0a78d41c",
      "metadata": {
        "id": "ab9389ae-1957-4b19-9ef3-c69e0a78d41c"
      },
      "outputs": [],
      "source": [
        "from DeepDataMiningLearning.detection import utils"
      ]
    },
    {
      "cell_type": "code",
      "execution_count": null,
      "id": "6073bee3-11c1-4ebf-9752-146bcbb05513",
      "metadata": {
        "id": "6073bee3-11c1-4ebf-9752-146bcbb05513"
      },
      "outputs": [],
      "source": [
        "BATCH_SIZE=16\n",
        "WORKERS = 16\n",
        "train_collate_fn = utils.collate_fn\n",
        "train_sampler = torch.utils.data.RandomSampler(kittidataset)\n",
        "train_batch_sampler = torch.utils.data.BatchSampler(train_sampler, BATCH_SIZE, drop_last=True)"
      ]
    },
    {
      "cell_type": "code",
      "execution_count": null,
      "id": "53468d0a-56f1-491f-837c-8a5f42218af5",
      "metadata": {
        "id": "53468d0a-56f1-491f-837c-8a5f42218af5"
      },
      "outputs": [],
      "source": [
        "data_loader = torch.utils.data.DataLoader(\n",
        "        kittidataset, batch_sampler=train_batch_sampler, num_workers=WORKERS, collate_fn=train_collate_fn\n",
        "    )"
      ]
    },
    {
      "cell_type": "code",
      "execution_count": null,
      "id": "9f37d59b-2f5a-446d-b971-1184b75e55f7",
      "metadata": {
        "id": "9f37d59b-2f5a-446d-b971-1184b75e55f7",
        "outputId": "12ba1d2f-1957-41d7-f0a5-9b401cd858fe"
      },
      "outputs": [
        {
          "data": {
            "text/plain": [
              "FasterRCNN(\n",
              "  (transform): GeneralizedRCNNTransform(\n",
              "      Normalize(mean=[0.485, 0.456, 0.406], std=[0.229, 0.224, 0.225])\n",
              "      Resize(min_size=(800,), max_size=1333, mode='bilinear')\n",
              "  )\n",
              "  (backbone): BackboneWithFPN(\n",
              "    (body): IntermediateLayerGetter(\n",
              "      (conv1): Conv2d(3, 64, kernel_size=(7, 7), stride=(2, 2), padding=(3, 3), bias=False)\n",
              "      (bn1): FrozenBatchNorm2d(64, eps=0.0)\n",
              "      (relu): ReLU(inplace=True)\n",
              "      (maxpool): MaxPool2d(kernel_size=3, stride=2, padding=1, dilation=1, ceil_mode=False)\n",
              "      (layer1): Sequential(\n",
              "        (0): Bottleneck(\n",
              "          (conv1): Conv2d(64, 64, kernel_size=(1, 1), stride=(1, 1), bias=False)\n",
              "          (bn1): FrozenBatchNorm2d(64, eps=0.0)\n",
              "          (conv2): Conv2d(64, 64, kernel_size=(3, 3), stride=(1, 1), padding=(1, 1), bias=False)\n",
              "          (bn2): FrozenBatchNorm2d(64, eps=0.0)\n",
              "          (conv3): Conv2d(64, 256, kernel_size=(1, 1), stride=(1, 1), bias=False)\n",
              "          (bn3): FrozenBatchNorm2d(256, eps=0.0)\n",
              "          (relu): ReLU(inplace=True)\n",
              "          (downsample): Sequential(\n",
              "            (0): Conv2d(64, 256, kernel_size=(1, 1), stride=(1, 1), bias=False)\n",
              "            (1): FrozenBatchNorm2d(256, eps=0.0)\n",
              "          )\n",
              "        )\n",
              "        (1): Bottleneck(\n",
              "          (conv1): Conv2d(256, 64, kernel_size=(1, 1), stride=(1, 1), bias=False)\n",
              "          (bn1): FrozenBatchNorm2d(64, eps=0.0)\n",
              "          (conv2): Conv2d(64, 64, kernel_size=(3, 3), stride=(1, 1), padding=(1, 1), bias=False)\n",
              "          (bn2): FrozenBatchNorm2d(64, eps=0.0)\n",
              "          (conv3): Conv2d(64, 256, kernel_size=(1, 1), stride=(1, 1), bias=False)\n",
              "          (bn3): FrozenBatchNorm2d(256, eps=0.0)\n",
              "          (relu): ReLU(inplace=True)\n",
              "        )\n",
              "        (2): Bottleneck(\n",
              "          (conv1): Conv2d(256, 64, kernel_size=(1, 1), stride=(1, 1), bias=False)\n",
              "          (bn1): FrozenBatchNorm2d(64, eps=0.0)\n",
              "          (conv2): Conv2d(64, 64, kernel_size=(3, 3), stride=(1, 1), padding=(1, 1), bias=False)\n",
              "          (bn2): FrozenBatchNorm2d(64, eps=0.0)\n",
              "          (conv3): Conv2d(64, 256, kernel_size=(1, 1), stride=(1, 1), bias=False)\n",
              "          (bn3): FrozenBatchNorm2d(256, eps=0.0)\n",
              "          (relu): ReLU(inplace=True)\n",
              "        )\n",
              "      )\n",
              "      (layer2): Sequential(\n",
              "        (0): Bottleneck(\n",
              "          (conv1): Conv2d(256, 128, kernel_size=(1, 1), stride=(1, 1), bias=False)\n",
              "          (bn1): FrozenBatchNorm2d(128, eps=0.0)\n",
              "          (conv2): Conv2d(128, 128, kernel_size=(3, 3), stride=(2, 2), padding=(1, 1), bias=False)\n",
              "          (bn2): FrozenBatchNorm2d(128, eps=0.0)\n",
              "          (conv3): Conv2d(128, 512, kernel_size=(1, 1), stride=(1, 1), bias=False)\n",
              "          (bn3): FrozenBatchNorm2d(512, eps=0.0)\n",
              "          (relu): ReLU(inplace=True)\n",
              "          (downsample): Sequential(\n",
              "            (0): Conv2d(256, 512, kernel_size=(1, 1), stride=(2, 2), bias=False)\n",
              "            (1): FrozenBatchNorm2d(512, eps=0.0)\n",
              "          )\n",
              "        )\n",
              "        (1): Bottleneck(\n",
              "          (conv1): Conv2d(512, 128, kernel_size=(1, 1), stride=(1, 1), bias=False)\n",
              "          (bn1): FrozenBatchNorm2d(128, eps=0.0)\n",
              "          (conv2): Conv2d(128, 128, kernel_size=(3, 3), stride=(1, 1), padding=(1, 1), bias=False)\n",
              "          (bn2): FrozenBatchNorm2d(128, eps=0.0)\n",
              "          (conv3): Conv2d(128, 512, kernel_size=(1, 1), stride=(1, 1), bias=False)\n",
              "          (bn3): FrozenBatchNorm2d(512, eps=0.0)\n",
              "          (relu): ReLU(inplace=True)\n",
              "        )\n",
              "        (2): Bottleneck(\n",
              "          (conv1): Conv2d(512, 128, kernel_size=(1, 1), stride=(1, 1), bias=False)\n",
              "          (bn1): FrozenBatchNorm2d(128, eps=0.0)\n",
              "          (conv2): Conv2d(128, 128, kernel_size=(3, 3), stride=(1, 1), padding=(1, 1), bias=False)\n",
              "          (bn2): FrozenBatchNorm2d(128, eps=0.0)\n",
              "          (conv3): Conv2d(128, 512, kernel_size=(1, 1), stride=(1, 1), bias=False)\n",
              "          (bn3): FrozenBatchNorm2d(512, eps=0.0)\n",
              "          (relu): ReLU(inplace=True)\n",
              "        )\n",
              "        (3): Bottleneck(\n",
              "          (conv1): Conv2d(512, 128, kernel_size=(1, 1), stride=(1, 1), bias=False)\n",
              "          (bn1): FrozenBatchNorm2d(128, eps=0.0)\n",
              "          (conv2): Conv2d(128, 128, kernel_size=(3, 3), stride=(1, 1), padding=(1, 1), bias=False)\n",
              "          (bn2): FrozenBatchNorm2d(128, eps=0.0)\n",
              "          (conv3): Conv2d(128, 512, kernel_size=(1, 1), stride=(1, 1), bias=False)\n",
              "          (bn3): FrozenBatchNorm2d(512, eps=0.0)\n",
              "          (relu): ReLU(inplace=True)\n",
              "        )\n",
              "      )\n",
              "      (layer3): Sequential(\n",
              "        (0): Bottleneck(\n",
              "          (conv1): Conv2d(512, 256, kernel_size=(1, 1), stride=(1, 1), bias=False)\n",
              "          (bn1): FrozenBatchNorm2d(256, eps=0.0)\n",
              "          (conv2): Conv2d(256, 256, kernel_size=(3, 3), stride=(2, 2), padding=(1, 1), bias=False)\n",
              "          (bn2): FrozenBatchNorm2d(256, eps=0.0)\n",
              "          (conv3): Conv2d(256, 1024, kernel_size=(1, 1), stride=(1, 1), bias=False)\n",
              "          (bn3): FrozenBatchNorm2d(1024, eps=0.0)\n",
              "          (relu): ReLU(inplace=True)\n",
              "          (downsample): Sequential(\n",
              "            (0): Conv2d(512, 1024, kernel_size=(1, 1), stride=(2, 2), bias=False)\n",
              "            (1): FrozenBatchNorm2d(1024, eps=0.0)\n",
              "          )\n",
              "        )\n",
              "        (1): Bottleneck(\n",
              "          (conv1): Conv2d(1024, 256, kernel_size=(1, 1), stride=(1, 1), bias=False)\n",
              "          (bn1): FrozenBatchNorm2d(256, eps=0.0)\n",
              "          (conv2): Conv2d(256, 256, kernel_size=(3, 3), stride=(1, 1), padding=(1, 1), bias=False)\n",
              "          (bn2): FrozenBatchNorm2d(256, eps=0.0)\n",
              "          (conv3): Conv2d(256, 1024, kernel_size=(1, 1), stride=(1, 1), bias=False)\n",
              "          (bn3): FrozenBatchNorm2d(1024, eps=0.0)\n",
              "          (relu): ReLU(inplace=True)\n",
              "        )\n",
              "        (2): Bottleneck(\n",
              "          (conv1): Conv2d(1024, 256, kernel_size=(1, 1), stride=(1, 1), bias=False)\n",
              "          (bn1): FrozenBatchNorm2d(256, eps=0.0)\n",
              "          (conv2): Conv2d(256, 256, kernel_size=(3, 3), stride=(1, 1), padding=(1, 1), bias=False)\n",
              "          (bn2): FrozenBatchNorm2d(256, eps=0.0)\n",
              "          (conv3): Conv2d(256, 1024, kernel_size=(1, 1), stride=(1, 1), bias=False)\n",
              "          (bn3): FrozenBatchNorm2d(1024, eps=0.0)\n",
              "          (relu): ReLU(inplace=True)\n",
              "        )\n",
              "        (3): Bottleneck(\n",
              "          (conv1): Conv2d(1024, 256, kernel_size=(1, 1), stride=(1, 1), bias=False)\n",
              "          (bn1): FrozenBatchNorm2d(256, eps=0.0)\n",
              "          (conv2): Conv2d(256, 256, kernel_size=(3, 3), stride=(1, 1), padding=(1, 1), bias=False)\n",
              "          (bn2): FrozenBatchNorm2d(256, eps=0.0)\n",
              "          (conv3): Conv2d(256, 1024, kernel_size=(1, 1), stride=(1, 1), bias=False)\n",
              "          (bn3): FrozenBatchNorm2d(1024, eps=0.0)\n",
              "          (relu): ReLU(inplace=True)\n",
              "        )\n",
              "        (4): Bottleneck(\n",
              "          (conv1): Conv2d(1024, 256, kernel_size=(1, 1), stride=(1, 1), bias=False)\n",
              "          (bn1): FrozenBatchNorm2d(256, eps=0.0)\n",
              "          (conv2): Conv2d(256, 256, kernel_size=(3, 3), stride=(1, 1), padding=(1, 1), bias=False)\n",
              "          (bn2): FrozenBatchNorm2d(256, eps=0.0)\n",
              "          (conv3): Conv2d(256, 1024, kernel_size=(1, 1), stride=(1, 1), bias=False)\n",
              "          (bn3): FrozenBatchNorm2d(1024, eps=0.0)\n",
              "          (relu): ReLU(inplace=True)\n",
              "        )\n",
              "        (5): Bottleneck(\n",
              "          (conv1): Conv2d(1024, 256, kernel_size=(1, 1), stride=(1, 1), bias=False)\n",
              "          (bn1): FrozenBatchNorm2d(256, eps=0.0)\n",
              "          (conv2): Conv2d(256, 256, kernel_size=(3, 3), stride=(1, 1), padding=(1, 1), bias=False)\n",
              "          (bn2): FrozenBatchNorm2d(256, eps=0.0)\n",
              "          (conv3): Conv2d(256, 1024, kernel_size=(1, 1), stride=(1, 1), bias=False)\n",
              "          (bn3): FrozenBatchNorm2d(1024, eps=0.0)\n",
              "          (relu): ReLU(inplace=True)\n",
              "        )\n",
              "      )\n",
              "      (layer4): Sequential(\n",
              "        (0): Bottleneck(\n",
              "          (conv1): Conv2d(1024, 512, kernel_size=(1, 1), stride=(1, 1), bias=False)\n",
              "          (bn1): FrozenBatchNorm2d(512, eps=0.0)\n",
              "          (conv2): Conv2d(512, 512, kernel_size=(3, 3), stride=(2, 2), padding=(1, 1), bias=False)\n",
              "          (bn2): FrozenBatchNorm2d(512, eps=0.0)\n",
              "          (conv3): Conv2d(512, 2048, kernel_size=(1, 1), stride=(1, 1), bias=False)\n",
              "          (bn3): FrozenBatchNorm2d(2048, eps=0.0)\n",
              "          (relu): ReLU(inplace=True)\n",
              "          (downsample): Sequential(\n",
              "            (0): Conv2d(1024, 2048, kernel_size=(1, 1), stride=(2, 2), bias=False)\n",
              "            (1): FrozenBatchNorm2d(2048, eps=0.0)\n",
              "          )\n",
              "        )\n",
              "        (1): Bottleneck(\n",
              "          (conv1): Conv2d(2048, 512, kernel_size=(1, 1), stride=(1, 1), bias=False)\n",
              "          (bn1): FrozenBatchNorm2d(512, eps=0.0)\n",
              "          (conv2): Conv2d(512, 512, kernel_size=(3, 3), stride=(1, 1), padding=(1, 1), bias=False)\n",
              "          (bn2): FrozenBatchNorm2d(512, eps=0.0)\n",
              "          (conv3): Conv2d(512, 2048, kernel_size=(1, 1), stride=(1, 1), bias=False)\n",
              "          (bn3): FrozenBatchNorm2d(2048, eps=0.0)\n",
              "          (relu): ReLU(inplace=True)\n",
              "        )\n",
              "        (2): Bottleneck(\n",
              "          (conv1): Conv2d(2048, 512, kernel_size=(1, 1), stride=(1, 1), bias=False)\n",
              "          (bn1): FrozenBatchNorm2d(512, eps=0.0)\n",
              "          (conv2): Conv2d(512, 512, kernel_size=(3, 3), stride=(1, 1), padding=(1, 1), bias=False)\n",
              "          (bn2): FrozenBatchNorm2d(512, eps=0.0)\n",
              "          (conv3): Conv2d(512, 2048, kernel_size=(1, 1), stride=(1, 1), bias=False)\n",
              "          (bn3): FrozenBatchNorm2d(2048, eps=0.0)\n",
              "          (relu): ReLU(inplace=True)\n",
              "        )\n",
              "      )\n",
              "    )\n",
              "    (fpn): FeaturePyramidNetwork(\n",
              "      (inner_blocks): ModuleList(\n",
              "        (0): Conv2dNormActivation(\n",
              "          (0): Conv2d(256, 256, kernel_size=(1, 1), stride=(1, 1))\n",
              "        )\n",
              "        (1): Conv2dNormActivation(\n",
              "          (0): Conv2d(512, 256, kernel_size=(1, 1), stride=(1, 1))\n",
              "        )\n",
              "        (2): Conv2dNormActivation(\n",
              "          (0): Conv2d(1024, 256, kernel_size=(1, 1), stride=(1, 1))\n",
              "        )\n",
              "        (3): Conv2dNormActivation(\n",
              "          (0): Conv2d(2048, 256, kernel_size=(1, 1), stride=(1, 1))\n",
              "        )\n",
              "      )\n",
              "      (layer_blocks): ModuleList(\n",
              "        (0-3): 4 x Conv2dNormActivation(\n",
              "          (0): Conv2d(256, 256, kernel_size=(3, 3), stride=(1, 1), padding=(1, 1))\n",
              "        )\n",
              "      )\n",
              "      (extra_blocks): LastLevelMaxPool()\n",
              "    )\n",
              "  )\n",
              "  (rpn): RegionProposalNetwork(\n",
              "    (anchor_generator): AnchorGenerator()\n",
              "    (head): RPNHead(\n",
              "      (conv): Sequential(\n",
              "        (0): Conv2dNormActivation(\n",
              "          (0): Conv2d(256, 256, kernel_size=(3, 3), stride=(1, 1), padding=(1, 1))\n",
              "          (1): ReLU(inplace=True)\n",
              "        )\n",
              "      )\n",
              "      (cls_logits): Conv2d(256, 3, kernel_size=(1, 1), stride=(1, 1))\n",
              "      (bbox_pred): Conv2d(256, 12, kernel_size=(1, 1), stride=(1, 1))\n",
              "    )\n",
              "  )\n",
              "  (roi_heads): RoIHeads(\n",
              "    (box_roi_pool): MultiScaleRoIAlign(featmap_names=['0', '1', '2', '3'], output_size=(7, 7), sampling_ratio=2)\n",
              "    (box_head): TwoMLPHead(\n",
              "      (fc6): Linear(in_features=12544, out_features=1024, bias=True)\n",
              "      (fc7): Linear(in_features=1024, out_features=1024, bias=True)\n",
              "    )\n",
              "    (box_predictor): FastRCNNPredictor(\n",
              "      (cls_score): Linear(in_features=1024, out_features=10, bias=True)\n",
              "      (bbox_pred): Linear(in_features=1024, out_features=40, bias=True)\n",
              "    )\n",
              "  )\n",
              ")"
            ]
          },
          "execution_count": 18,
          "metadata": {},
          "output_type": "execute_result"
        }
      ],
      "source": [
        "import torchvision\n",
        "from torchvision.models.detection.faster_rcnn import FastRCNNPredictor\n",
        "\n",
        "# load a model pre-trained pre-trained\n",
        "model = torchvision.models.detection.fasterrcnn_resnet50_fpn(pretrained=True)\n",
        "\n",
        "# replace the classifier with a new one, that has\n",
        "# num_classes which is user-defined\n",
        "num_classes = 10  # 1 class (person) + background\n",
        "# get number of input features for the classifier\n",
        "in_features = model.roi_heads.box_predictor.cls_score.in_features\n",
        "# replace the pre-trained head with a new one\n",
        "model.roi_heads.box_predictor = FastRCNNPredictor(in_features, num_classes)\n",
        "\n",
        "# move model to the right device\n",
        "model.to(device)"
      ]
    },
    {
      "cell_type": "code",
      "execution_count": null,
      "id": "b8da553b-6f28-49b8-beac-c32a144f92f0",
      "metadata": {
        "id": "b8da553b-6f28-49b8-beac-c32a144f92f0"
      },
      "outputs": [],
      "source": [
        "save_path = '/data/cmpe258-sp24/miaosen/CMPE249/HW_1/working/final_model_2.pth'"
      ]
    },
    {
      "cell_type": "code",
      "execution_count": null,
      "id": "0af7c59b-d31b-47e9-abc9-7f231ef075f8",
      "metadata": {
        "id": "0af7c59b-d31b-47e9-abc9-7f231ef075f8"
      },
      "outputs": [],
      "source": [
        "from tqdm import tqdm"
      ]
    },
    {
      "cell_type": "code",
      "execution_count": null,
      "id": "d0b57dbf-d062-4d5b-80c1-d25116eb4081",
      "metadata": {
        "id": "d0b57dbf-d062-4d5b-80c1-d25116eb4081",
        "outputId": "a17f5157-3de8-46df-ea61-681765ae00b4"
      },
      "outputs": [
        {
          "name": "stderr",
          "output_type": "stream",
          "text": [
            "Processing:   0%|                                                                                                         | 0/50 [00:00<?, ?it/s]"
          ]
        },
        {
          "name": "stdout",
          "output_type": "stream",
          "text": [
            "Epoch: 1/50, Loss: 0.42612579464912415\n"
          ]
        },
        {
          "name": "stderr",
          "output_type": "stream",
          "text": [
            "Processing:   2%|█▊                                                                                           | 1/50 [12:38<10:19:38, 758.74s/it]"
          ]
        },
        {
          "name": "stdout",
          "output_type": "stream",
          "text": [
            "Model saved to '/data/cmpe258-sp24/miaosen/CMPE249/HW_1/working/final_model_2.pth'\n",
            "Epoch: 2/50, Loss: 0.5486985445022583\n"
          ]
        },
        {
          "name": "stderr",
          "output_type": "stream",
          "text": [
            "Processing:   4%|███▋                                                                                         | 2/50 [25:04<10:00:42, 750.89s/it]"
          ]
        },
        {
          "name": "stdout",
          "output_type": "stream",
          "text": [
            "Model saved to '/data/cmpe258-sp24/miaosen/CMPE249/HW_1/working/final_model_2.pth'\n",
            "Epoch: 3/50, Loss: 0.5177141427993774\n"
          ]
        },
        {
          "name": "stderr",
          "output_type": "stream",
          "text": [
            "Processing:   6%|█████▋                                                                                        | 3/50 [37:29<9:46:19, 748.49s/it]"
          ]
        },
        {
          "name": "stdout",
          "output_type": "stream",
          "text": [
            "Model saved to '/data/cmpe258-sp24/miaosen/CMPE249/HW_1/working/final_model_2.pth'\n",
            "Epoch: 4/50, Loss: 0.3774336874485016\n"
          ]
        },
        {
          "name": "stderr",
          "output_type": "stream",
          "text": [
            "Processing:   8%|███████▌                                                                                      | 4/50 [49:56<9:33:18, 747.80s/it]"
          ]
        },
        {
          "name": "stdout",
          "output_type": "stream",
          "text": [
            "Model saved to '/data/cmpe258-sp24/miaosen/CMPE249/HW_1/working/final_model_2.pth'\n",
            "Epoch: 5/50, Loss: 0.2998450696468353\n"
          ]
        },
        {
          "name": "stderr",
          "output_type": "stream",
          "text": [
            "Processing:  10%|█████████▏                                                                                  | 5/50 [1:02:23<9:20:45, 747.67s/it]"
          ]
        },
        {
          "name": "stdout",
          "output_type": "stream",
          "text": [
            "Model saved to '/data/cmpe258-sp24/miaosen/CMPE249/HW_1/working/final_model_2.pth'\n",
            "Epoch: 6/50, Loss: 0.4477429986000061\n"
          ]
        },
        {
          "name": "stderr",
          "output_type": "stream",
          "text": [
            "Processing:  12%|███████████                                                                                 | 6/50 [1:14:50<9:07:59, 747.26s/it]"
          ]
        },
        {
          "name": "stdout",
          "output_type": "stream",
          "text": [
            "Model saved to '/data/cmpe258-sp24/miaosen/CMPE249/HW_1/working/final_model_2.pth'\n",
            "Epoch: 7/50, Loss: 0.42523491382598877\n"
          ]
        },
        {
          "name": "stderr",
          "output_type": "stream",
          "text": [
            "Processing:  14%|████████████▉                                                                               | 7/50 [1:27:17<8:55:30, 747.21s/it]"
          ]
        },
        {
          "name": "stdout",
          "output_type": "stream",
          "text": [
            "Model saved to '/data/cmpe258-sp24/miaosen/CMPE249/HW_1/working/final_model_2.pth'\n",
            "Epoch: 8/50, Loss: 0.28533148765563965\n"
          ]
        },
        {
          "name": "stderr",
          "output_type": "stream",
          "text": [
            "Processing:  16%|██████████████▋                                                                             | 8/50 [1:39:43<8:42:48, 746.86s/it]"
          ]
        },
        {
          "name": "stdout",
          "output_type": "stream",
          "text": [
            "Model saved to '/data/cmpe258-sp24/miaosen/CMPE249/HW_1/working/final_model_2.pth'\n",
            "Epoch: 9/50, Loss: 0.3745960295200348\n"
          ]
        },
        {
          "name": "stderr",
          "output_type": "stream",
          "text": [
            "Processing:  18%|████████████████▌                                                                           | 9/50 [1:52:09<8:30:12, 746.66s/it]"
          ]
        },
        {
          "name": "stdout",
          "output_type": "stream",
          "text": [
            "Model saved to '/data/cmpe258-sp24/miaosen/CMPE249/HW_1/working/final_model_2.pth'\n",
            "Epoch: 10/50, Loss: 0.3087141215801239\n"
          ]
        },
        {
          "name": "stderr",
          "output_type": "stream",
          "text": [
            "Processing:  20%|██████████████████▏                                                                        | 10/50 [2:04:40<8:18:29, 747.75s/it]"
          ]
        },
        {
          "name": "stdout",
          "output_type": "stream",
          "text": [
            "Model saved to '/data/cmpe258-sp24/miaosen/CMPE249/HW_1/working/final_model_2.pth'\n",
            "Epoch: 11/50, Loss: 0.41189268231391907\n"
          ]
        },
        {
          "name": "stderr",
          "output_type": "stream",
          "text": [
            "Processing:  22%|████████████████████                                                                       | 11/50 [2:17:16<8:07:51, 750.56s/it]"
          ]
        },
        {
          "name": "stdout",
          "output_type": "stream",
          "text": [
            "Model saved to '/data/cmpe258-sp24/miaosen/CMPE249/HW_1/working/final_model_2.pth'\n",
            "Epoch: 12/50, Loss: 0.4973844289779663\n"
          ]
        },
        {
          "name": "stderr",
          "output_type": "stream",
          "text": [
            "Processing:  24%|█████████████████████▊                                                                     | 12/50 [2:29:49<7:55:44, 751.18s/it]"
          ]
        },
        {
          "name": "stdout",
          "output_type": "stream",
          "text": [
            "Model saved to '/data/cmpe258-sp24/miaosen/CMPE249/HW_1/working/final_model_2.pth'\n",
            "Epoch: 13/50, Loss: 0.39810168743133545\n"
          ]
        },
        {
          "name": "stderr",
          "output_type": "stream",
          "text": [
            "Processing:  26%|███████████████████████▋                                                                   | 13/50 [2:42:15<7:42:16, 749.63s/it]"
          ]
        },
        {
          "name": "stdout",
          "output_type": "stream",
          "text": [
            "Model saved to '/data/cmpe258-sp24/miaosen/CMPE249/HW_1/working/final_model_2.pth'\n",
            "Epoch: 14/50, Loss: 0.44491779804229736\n"
          ]
        },
        {
          "name": "stderr",
          "output_type": "stream",
          "text": [
            "Processing:  28%|█████████████████████████▍                                                                 | 14/50 [2:54:41<7:29:10, 748.61s/it]"
          ]
        },
        {
          "name": "stdout",
          "output_type": "stream",
          "text": [
            "Model saved to '/data/cmpe258-sp24/miaosen/CMPE249/HW_1/working/final_model_2.pth'\n",
            "Epoch: 15/50, Loss: 0.4469603896141052\n"
          ]
        },
        {
          "name": "stderr",
          "output_type": "stream",
          "text": [
            "Processing:  30%|███████████████████████████▎                                                               | 15/50 [3:07:08<7:16:15, 747.87s/it]"
          ]
        },
        {
          "name": "stdout",
          "output_type": "stream",
          "text": [
            "Model saved to '/data/cmpe258-sp24/miaosen/CMPE249/HW_1/working/final_model_2.pth'\n",
            "Epoch: 16/50, Loss: 0.32026392221450806\n"
          ]
        },
        {
          "name": "stderr",
          "output_type": "stream",
          "text": [
            "Processing:  32%|█████████████████████████████                                                              | 16/50 [3:19:34<7:03:37, 747.58s/it]"
          ]
        },
        {
          "name": "stdout",
          "output_type": "stream",
          "text": [
            "Model saved to '/data/cmpe258-sp24/miaosen/CMPE249/HW_1/working/final_model_2.pth'\n",
            "Epoch: 17/50, Loss: 0.3636575937271118\n"
          ]
        },
        {
          "name": "stderr",
          "output_type": "stream",
          "text": [
            "Processing:  34%|██████████████████████████████▉                                                            | 17/50 [3:32:11<6:52:34, 750.14s/it]"
          ]
        },
        {
          "name": "stdout",
          "output_type": "stream",
          "text": [
            "Model saved to '/data/cmpe258-sp24/miaosen/CMPE249/HW_1/working/final_model_2.pth'\n",
            "Epoch: 18/50, Loss: 0.33206406235694885\n"
          ]
        },
        {
          "name": "stderr",
          "output_type": "stream",
          "text": [
            "Processing:  36%|████████████████████████████████▊                                                          | 18/50 [3:44:37<6:39:31, 749.11s/it]"
          ]
        },
        {
          "name": "stdout",
          "output_type": "stream",
          "text": [
            "Model saved to '/data/cmpe258-sp24/miaosen/CMPE249/HW_1/working/final_model_2.pth'\n",
            "Epoch: 19/50, Loss: 0.4269688129425049\n"
          ]
        },
        {
          "name": "stderr",
          "output_type": "stream",
          "text": [
            "Processing:  38%|██████████████████████████████████▌                                                        | 19/50 [3:57:19<6:29:03, 753.01s/it]"
          ]
        },
        {
          "name": "stdout",
          "output_type": "stream",
          "text": [
            "Model saved to '/data/cmpe258-sp24/miaosen/CMPE249/HW_1/working/final_model_2.pth'\n",
            "Epoch: 20/50, Loss: 0.44354248046875\n"
          ]
        },
        {
          "name": "stderr",
          "output_type": "stream",
          "text": [
            "Processing:  40%|████████████████████████████████████▍                                                      | 20/50 [4:09:46<6:15:31, 751.06s/it]"
          ]
        },
        {
          "name": "stdout",
          "output_type": "stream",
          "text": [
            "Model saved to '/data/cmpe258-sp24/miaosen/CMPE249/HW_1/working/final_model_2.pth'\n",
            "Epoch: 21/50, Loss: 0.4131874442100525\n"
          ]
        },
        {
          "name": "stderr",
          "output_type": "stream",
          "text": [
            "Processing:  42%|██████████████████████████████████████▏                                                    | 21/50 [4:22:20<6:03:25, 751.91s/it]"
          ]
        },
        {
          "name": "stdout",
          "output_type": "stream",
          "text": [
            "Model saved to '/data/cmpe258-sp24/miaosen/CMPE249/HW_1/working/final_model_2.pth'\n",
            "Epoch: 22/50, Loss: 0.32151132822036743\n"
          ]
        },
        {
          "name": "stderr",
          "output_type": "stream",
          "text": [
            "Processing:  44%|████████████████████████████████████████                                                   | 22/50 [4:34:49<5:50:31, 751.13s/it]"
          ]
        },
        {
          "name": "stdout",
          "output_type": "stream",
          "text": [
            "Model saved to '/data/cmpe258-sp24/miaosen/CMPE249/HW_1/working/final_model_2.pth'\n",
            "Epoch: 23/50, Loss: 0.34521880745887756\n"
          ]
        },
        {
          "name": "stderr",
          "output_type": "stream",
          "text": [
            "Processing:  46%|█████████████████████████████████████████▊                                                 | 23/50 [4:47:17<5:37:38, 750.30s/it]"
          ]
        },
        {
          "name": "stdout",
          "output_type": "stream",
          "text": [
            "Model saved to '/data/cmpe258-sp24/miaosen/CMPE249/HW_1/working/final_model_2.pth'\n",
            "Epoch: 24/50, Loss: 0.3112267851829529\n"
          ]
        },
        {
          "name": "stderr",
          "output_type": "stream",
          "text": [
            "Processing:  48%|███████████████████████████████████████████▋                                               | 24/50 [4:59:44<5:24:37, 749.15s/it]"
          ]
        },
        {
          "name": "stdout",
          "output_type": "stream",
          "text": [
            "Model saved to '/data/cmpe258-sp24/miaosen/CMPE249/HW_1/working/final_model_2.pth'\n",
            "Epoch: 25/50, Loss: 0.398506224155426\n"
          ]
        },
        {
          "name": "stderr",
          "output_type": "stream",
          "text": [
            "Processing:  50%|█████████████████████████████████████████████▌                                             | 25/50 [5:12:15<5:12:19, 749.59s/it]"
          ]
        },
        {
          "name": "stdout",
          "output_type": "stream",
          "text": [
            "Model saved to '/data/cmpe258-sp24/miaosen/CMPE249/HW_1/working/final_model_2.pth'\n",
            "Epoch: 26/50, Loss: 0.38528257608413696\n"
          ]
        },
        {
          "name": "stderr",
          "output_type": "stream",
          "text": [
            "Processing:  52%|███████████████████████████████████████████████▎                                           | 26/50 [5:24:41<4:59:26, 748.61s/it]"
          ]
        },
        {
          "name": "stdout",
          "output_type": "stream",
          "text": [
            "Model saved to '/data/cmpe258-sp24/miaosen/CMPE249/HW_1/working/final_model_2.pth'\n",
            "Epoch: 27/50, Loss: 0.39250510931015015\n"
          ]
        },
        {
          "name": "stderr",
          "output_type": "stream",
          "text": [
            "Processing:  54%|█████████████████████████████████████████████████▏                                         | 27/50 [5:37:17<4:47:50, 750.90s/it]"
          ]
        },
        {
          "name": "stdout",
          "output_type": "stream",
          "text": [
            "Model saved to '/data/cmpe258-sp24/miaosen/CMPE249/HW_1/working/final_model_2.pth'\n",
            "Epoch: 28/50, Loss: 0.42429405450820923\n"
          ]
        },
        {
          "name": "stderr",
          "output_type": "stream",
          "text": [
            "Processing:  56%|██████████████████████████████████████████████████▉                                        | 28/50 [5:49:45<4:35:01, 750.05s/it]"
          ]
        },
        {
          "name": "stdout",
          "output_type": "stream",
          "text": [
            "Model saved to '/data/cmpe258-sp24/miaosen/CMPE249/HW_1/working/final_model_2.pth'\n",
            "Epoch: 29/50, Loss: 0.4108785092830658\n"
          ]
        },
        {
          "name": "stderr",
          "output_type": "stream",
          "text": [
            "Processing:  58%|████████████████████████████████████████████████████▊                                      | 29/50 [6:02:11<4:22:04, 748.80s/it]"
          ]
        },
        {
          "name": "stdout",
          "output_type": "stream",
          "text": [
            "Model saved to '/data/cmpe258-sp24/miaosen/CMPE249/HW_1/working/final_model_2.pth'\n"
          ]
        }
      ],
      "source": [
        "# Define optimizer\n",
        "params = [p for p in model.parameters() if p.requires_grad]\n",
        "optimizer = torch.optim.SGD(params, lr=0.005, momentum=0.9, weight_decay=0.0005)\n",
        "\n",
        "# Learning rate scheduler\n",
        "lr_scheduler = torch.optim.lr_scheduler.StepLR(optimizer, step_size=3, gamma=0.1)\n",
        "\n",
        "# Number of epochs\n",
        "num_epochs = 50\n",
        "i = 0\n",
        "\n",
        "for epoch in tqdm(range(num_epochs), desc=\"Processing\"):\n",
        "    model.train()\n",
        "    for images, targets in data_loader:\n",
        "        images = list(image.to(device) for image in images)\n",
        "        targets = [{k: v.to(device) for k, v in t.items()} for t in targets]\n",
        "        loss_dict = model(images, targets)\n",
        "        losses = sum(loss for loss in loss_dict.values())\n",
        "\n",
        "        optimizer.zero_grad()\n",
        "        losses.backward()\n",
        "        optimizer.step()\n",
        "\n",
        "    print(f\"Epoch: {epoch+1}/{num_epochs}, Loss: {losses.item()}\")\n",
        "    lr_scheduler.step()\n",
        "    if i % 5 == 0:\n",
        "        torch.save(model.state_dict(), save_path)\n",
        "        print(f\"Model saved to '{save_path}'\")\n",
        "    i = i+1"
      ]
    }
  ],
  "metadata": {
    "kernelspec": {
      "display_name": "Python 3 (ipykernel)",
      "language": "python",
      "name": "python3"
    },
    "language_info": {
      "codemirror_mode": {
        "name": "ipython",
        "version": 3
      },
      "file_extension": ".py",
      "mimetype": "text/x-python",
      "name": "python",
      "nbconvert_exporter": "python",
      "pygments_lexer": "ipython3",
      "version": "3.11.9"
    },
    "colab": {
      "provenance": []
    }
  },
  "nbformat": 4,
  "nbformat_minor": 5
}