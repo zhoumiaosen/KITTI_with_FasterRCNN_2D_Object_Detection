{
  "cells": [
    {
      "cell_type": "code",
      "execution_count": null,
      "id": "cb55bfea-b430-4b76-bb21-a59302ddd644",
      "metadata": {
        "id": "cb55bfea-b430-4b76-bb21-a59302ddd644",
        "outputId": "d4af13ff-f304-4de5-858e-7048d369c2b8"
      },
      "outputs": [
        {
          "name": "stdout",
          "output_type": "stream",
          "text": [
            "/fs/atipa/data/cmpe258-sp24/miaosen/CMPE249/HW_1/working\n"
          ]
        }
      ],
      "source": [
        "%cd /data/cmpe258-sp24/miaosen/CMPE249/HW_1/working"
      ]
    },
    {
      "cell_type": "code",
      "execution_count": null,
      "id": "bf649531-a17c-4896-bbb7-562b74cfcb20",
      "metadata": {
        "id": "bf649531-a17c-4896-bbb7-562b74cfcb20",
        "outputId": "50ae8fc6-32aa-49d1-8d97-142fc4739da2"
      },
      "outputs": [
        {
          "name": "stdout",
          "output_type": "stream",
          "text": [
            "final_model_2.pth  final_model_3.pth  final_model.pth  Kitti\n"
          ]
        }
      ],
      "source": [
        "!ls"
      ]
    },
    {
      "cell_type": "code",
      "execution_count": null,
      "id": "4a60f59b-aeda-4731-9b7f-cb47550b9bd2",
      "metadata": {
        "id": "4a60f59b-aeda-4731-9b7f-cb47550b9bd2",
        "outputId": "e7bc21d3-d115-4ce2-f679-e6f8dc7d601a"
      },
      "outputs": [
        {
          "name": "stdout",
          "output_type": "stream",
          "text": [
            "2.4.1\n",
            "0.19.1\n"
          ]
        }
      ],
      "source": [
        "import torch\n",
        "import torchvision\n",
        "print(torch.__version__)\n",
        "print(torchvision.__version__)"
      ]
    },
    {
      "cell_type": "code",
      "execution_count": null,
      "id": "f0bd9300-1c02-46aa-bc39-d29b379440e9",
      "metadata": {
        "id": "f0bd9300-1c02-46aa-bc39-d29b379440e9",
        "outputId": "a265cf26-c6b5-4834-9a79-e584d072224b"
      },
      "outputs": [
        {
          "name": "stdout",
          "output_type": "stream",
          "text": [
            "True\n"
          ]
        }
      ],
      "source": [
        "print(torch.cuda.is_available())\n",
        "#print(torch.cuda.device_count())"
      ]
    },
    {
      "cell_type": "code",
      "execution_count": null,
      "id": "99b64013-2aa8-4f2f-b851-a57978a5079d",
      "metadata": {
        "id": "99b64013-2aa8-4f2f-b851-a57978a5079d"
      },
      "outputs": [],
      "source": [
        "device = torch.device('cuda') if torch.cuda.is_available() else torch.device('cpu')"
      ]
    },
    {
      "cell_type": "code",
      "source": [
        "#creating the symlink for detection\n",
        "!git clone https://github.com/lkk688/DeepDataMiningLearning.git\n",
        "%cd DeepDataMiningLearning\n",
        "!pip install flit\n",
        "!flit install --symlink"
      ],
      "metadata": {
        "id": "_jWYpKPyOaPY"
      },
      "id": "_jWYpKPyOaPY",
      "execution_count": null,
      "outputs": []
    },
    {
      "cell_type": "code",
      "execution_count": null,
      "id": "ea07c7ee-49a7-4191-b85a-2929bf75f424",
      "metadata": {
        "id": "ea07c7ee-49a7-4191-b85a-2929bf75f424"
      },
      "outputs": [],
      "source": [
        "from DeepDataMiningLearning.detection.dataset_kitti import MyKittiDetection"
      ]
    },
    {
      "cell_type": "code",
      "execution_count": null,
      "id": "f6690fb3-adaf-40cf-8221-583932a29a34",
      "metadata": {
        "id": "f6690fb3-adaf-40cf-8221-583932a29a34"
      },
      "outputs": [],
      "source": [
        "from tqdm import tqdm"
      ]
    },
    {
      "cell_type": "code",
      "execution_count": null,
      "id": "2082ccb0-dec1-4899-acd1-cef049bf45b3",
      "metadata": {
        "id": "2082ccb0-dec1-4899-acd1-cef049bf45b3"
      },
      "outputs": [],
      "source": [
        "import DeepDataMiningLearning.detection.transforms as T\n",
        "def get_transformsimple(train):\n",
        "    transforms = []\n",
        "    transforms.append(T.PILToTensor())\n",
        "    transforms.append(T.ToDtype(torch.float, scale=True))\n",
        "    # if train:\n",
        "    #     transforms.append(RandomHorizontalFlip(0.5))\n",
        "    return T.Compose(transforms)"
      ]
    },
    {
      "cell_type": "code",
      "execution_count": null,
      "id": "c91ccb3d-27df-480e-8981-4295bd48f742",
      "metadata": {
        "id": "c91ccb3d-27df-480e-8981-4295bd48f742"
      },
      "outputs": [],
      "source": [
        "rootPath='/data/cmpe258-sp24/miaosen/CMPE249/HW_1/working/Kitti'\n",
        "is_train = True\n",
        "kittidataset = MyKittiDetection(rootPath, train=True, transform=get_transformsimple(is_train))"
      ]
    },
    {
      "cell_type": "code",
      "execution_count": null,
      "id": "aabcae65-136e-4f1f-90ba-b2450c6fedb2",
      "metadata": {
        "id": "aabcae65-136e-4f1f-90ba-b2450c6fedb2",
        "outputId": "c453943e-c2ab-4c25-ce91-badfad9f0679"
      },
      "outputs": [
        {
          "name": "stdout",
          "output_type": "stream",
          "text": [
            "['Car', 'Van', 'Truck', 'Pedestrian', 'Person_sitting', 'Cyclist', 'Tram', 'Misc', 'DontCare']\n"
          ]
        }
      ],
      "source": [
        "print(kittidataset.INSTANCE_CATEGORY_NAMES)"
      ]
    },
    {
      "cell_type": "code",
      "execution_count": null,
      "id": "f9306809-39e7-4c16-b39f-f267fec229bb",
      "metadata": {
        "id": "f9306809-39e7-4c16-b39f-f267fec229bb",
        "outputId": "a446c509-3079-4cea-9f9d-27d3f1bbee04"
      },
      "outputs": [
        {
          "name": "stdout",
          "output_type": "stream",
          "text": [
            "Dataset len: 7481\n"
          ]
        }
      ],
      "source": [
        "print(\"Dataset len:\", len(kittidataset))"
      ]
    },
    {
      "cell_type": "code",
      "execution_count": null,
      "id": "5f7936ca-7e02-4431-ad2b-2601725e2ffe",
      "metadata": {
        "id": "5f7936ca-7e02-4431-ad2b-2601725e2ffe"
      },
      "outputs": [],
      "source": [
        "img, target = kittidataset[0]"
      ]
    },
    {
      "cell_type": "code",
      "execution_count": null,
      "id": "8f1a90d5-2c38-476c-beb4-cf89ca99e44f",
      "metadata": {
        "id": "8f1a90d5-2c38-476c-beb4-cf89ca99e44f"
      },
      "outputs": [],
      "source": [
        "from DeepDataMiningLearning.detection import utils"
      ]
    },
    {
      "cell_type": "code",
      "execution_count": null,
      "id": "e8f8ce67-aeb3-4f21-ba04-ad8c328f069f",
      "metadata": {
        "id": "e8f8ce67-aeb3-4f21-ba04-ad8c328f069f"
      },
      "outputs": [],
      "source": [
        "BATCH_SIZE=16\n",
        "WORKERS = 16\n",
        "train_collate_fn = utils.collate_fn\n",
        "train_sampler = torch.utils.data.RandomSampler(kittidataset)\n",
        "train_batch_sampler = torch.utils.data.BatchSampler(train_sampler, BATCH_SIZE, drop_last=True)"
      ]
    },
    {
      "cell_type": "code",
      "execution_count": null,
      "id": "0fc9729b-aa5f-44d7-96cf-9b8ee698b114",
      "metadata": {
        "id": "0fc9729b-aa5f-44d7-96cf-9b8ee698b114"
      },
      "outputs": [],
      "source": [
        "data_loader = torch.utils.data.DataLoader(\n",
        "        kittidataset, batch_sampler=train_batch_sampler, num_workers=WORKERS, collate_fn=train_collate_fn\n",
        "    )"
      ]
    },
    {
      "cell_type": "code",
      "execution_count": null,
      "id": "ba4ed4cb-2809-4baa-b2e6-c7191c413b34",
      "metadata": {
        "id": "ba4ed4cb-2809-4baa-b2e6-c7191c413b34",
        "outputId": "6fc329e8-c3de-453f-cb55-a1026457ba68"
      },
      "outputs": [
        {
          "name": "stderr",
          "output_type": "stream",
          "text": [
            "/data/cmpe258-sp24/miaosen/miniconda3/envs/CMPE249py311/lib/python3.11/site-packages/torchvision/models/_utils.py:208: UserWarning: The parameter 'pretrained' is deprecated since 0.13 and may be removed in the future, please use 'weights' instead.\n",
            "  warnings.warn(\n",
            "/data/cmpe258-sp24/miaosen/miniconda3/envs/CMPE249py311/lib/python3.11/site-packages/torchvision/models/_utils.py:223: UserWarning: Arguments other than a weight enum or `None` for 'weights' are deprecated since 0.13 and may be removed in the future. The current behavior is equivalent to passing `weights=FasterRCNN_ResNet50_FPN_Weights.COCO_V1`. You can also use `weights=FasterRCNN_ResNet50_FPN_Weights.DEFAULT` to get the most up-to-date weights.\n",
            "  warnings.warn(msg)\n"
          ]
        },
        {
          "data": {
            "text/plain": [
              "FasterRCNN(\n",
              "  (transform): GeneralizedRCNNTransform(\n",
              "      Normalize(mean=[0.485, 0.456, 0.406], std=[0.229, 0.224, 0.225])\n",
              "      Resize(min_size=(800,), max_size=1333, mode='bilinear')\n",
              "  )\n",
              "  (backbone): BackboneWithFPN(\n",
              "    (body): IntermediateLayerGetter(\n",
              "      (conv1): Conv2d(3, 64, kernel_size=(7, 7), stride=(2, 2), padding=(3, 3), bias=False)\n",
              "      (bn1): FrozenBatchNorm2d(64, eps=0.0)\n",
              "      (relu): ReLU(inplace=True)\n",
              "      (maxpool): MaxPool2d(kernel_size=3, stride=2, padding=1, dilation=1, ceil_mode=False)\n",
              "      (layer1): Sequential(\n",
              "        (0): Bottleneck(\n",
              "          (conv1): Conv2d(64, 64, kernel_size=(1, 1), stride=(1, 1), bias=False)\n",
              "          (bn1): FrozenBatchNorm2d(64, eps=0.0)\n",
              "          (conv2): Conv2d(64, 64, kernel_size=(3, 3), stride=(1, 1), padding=(1, 1), bias=False)\n",
              "          (bn2): FrozenBatchNorm2d(64, eps=0.0)\n",
              "          (conv3): Conv2d(64, 256, kernel_size=(1, 1), stride=(1, 1), bias=False)\n",
              "          (bn3): FrozenBatchNorm2d(256, eps=0.0)\n",
              "          (relu): ReLU(inplace=True)\n",
              "          (downsample): Sequential(\n",
              "            (0): Conv2d(64, 256, kernel_size=(1, 1), stride=(1, 1), bias=False)\n",
              "            (1): FrozenBatchNorm2d(256, eps=0.0)\n",
              "          )\n",
              "        )\n",
              "        (1): Bottleneck(\n",
              "          (conv1): Conv2d(256, 64, kernel_size=(1, 1), stride=(1, 1), bias=False)\n",
              "          (bn1): FrozenBatchNorm2d(64, eps=0.0)\n",
              "          (conv2): Conv2d(64, 64, kernel_size=(3, 3), stride=(1, 1), padding=(1, 1), bias=False)\n",
              "          (bn2): FrozenBatchNorm2d(64, eps=0.0)\n",
              "          (conv3): Conv2d(64, 256, kernel_size=(1, 1), stride=(1, 1), bias=False)\n",
              "          (bn3): FrozenBatchNorm2d(256, eps=0.0)\n",
              "          (relu): ReLU(inplace=True)\n",
              "        )\n",
              "        (2): Bottleneck(\n",
              "          (conv1): Conv2d(256, 64, kernel_size=(1, 1), stride=(1, 1), bias=False)\n",
              "          (bn1): FrozenBatchNorm2d(64, eps=0.0)\n",
              "          (conv2): Conv2d(64, 64, kernel_size=(3, 3), stride=(1, 1), padding=(1, 1), bias=False)\n",
              "          (bn2): FrozenBatchNorm2d(64, eps=0.0)\n",
              "          (conv3): Conv2d(64, 256, kernel_size=(1, 1), stride=(1, 1), bias=False)\n",
              "          (bn3): FrozenBatchNorm2d(256, eps=0.0)\n",
              "          (relu): ReLU(inplace=True)\n",
              "        )\n",
              "      )\n",
              "      (layer2): Sequential(\n",
              "        (0): Bottleneck(\n",
              "          (conv1): Conv2d(256, 128, kernel_size=(1, 1), stride=(1, 1), bias=False)\n",
              "          (bn1): FrozenBatchNorm2d(128, eps=0.0)\n",
              "          (conv2): Conv2d(128, 128, kernel_size=(3, 3), stride=(2, 2), padding=(1, 1), bias=False)\n",
              "          (bn2): FrozenBatchNorm2d(128, eps=0.0)\n",
              "          (conv3): Conv2d(128, 512, kernel_size=(1, 1), stride=(1, 1), bias=False)\n",
              "          (bn3): FrozenBatchNorm2d(512, eps=0.0)\n",
              "          (relu): ReLU(inplace=True)\n",
              "          (downsample): Sequential(\n",
              "            (0): Conv2d(256, 512, kernel_size=(1, 1), stride=(2, 2), bias=False)\n",
              "            (1): FrozenBatchNorm2d(512, eps=0.0)\n",
              "          )\n",
              "        )\n",
              "        (1): Bottleneck(\n",
              "          (conv1): Conv2d(512, 128, kernel_size=(1, 1), stride=(1, 1), bias=False)\n",
              "          (bn1): FrozenBatchNorm2d(128, eps=0.0)\n",
              "          (conv2): Conv2d(128, 128, kernel_size=(3, 3), stride=(1, 1), padding=(1, 1), bias=False)\n",
              "          (bn2): FrozenBatchNorm2d(128, eps=0.0)\n",
              "          (conv3): Conv2d(128, 512, kernel_size=(1, 1), stride=(1, 1), bias=False)\n",
              "          (bn3): FrozenBatchNorm2d(512, eps=0.0)\n",
              "          (relu): ReLU(inplace=True)\n",
              "        )\n",
              "        (2): Bottleneck(\n",
              "          (conv1): Conv2d(512, 128, kernel_size=(1, 1), stride=(1, 1), bias=False)\n",
              "          (bn1): FrozenBatchNorm2d(128, eps=0.0)\n",
              "          (conv2): Conv2d(128, 128, kernel_size=(3, 3), stride=(1, 1), padding=(1, 1), bias=False)\n",
              "          (bn2): FrozenBatchNorm2d(128, eps=0.0)\n",
              "          (conv3): Conv2d(128, 512, kernel_size=(1, 1), stride=(1, 1), bias=False)\n",
              "          (bn3): FrozenBatchNorm2d(512, eps=0.0)\n",
              "          (relu): ReLU(inplace=True)\n",
              "        )\n",
              "        (3): Bottleneck(\n",
              "          (conv1): Conv2d(512, 128, kernel_size=(1, 1), stride=(1, 1), bias=False)\n",
              "          (bn1): FrozenBatchNorm2d(128, eps=0.0)\n",
              "          (conv2): Conv2d(128, 128, kernel_size=(3, 3), stride=(1, 1), padding=(1, 1), bias=False)\n",
              "          (bn2): FrozenBatchNorm2d(128, eps=0.0)\n",
              "          (conv3): Conv2d(128, 512, kernel_size=(1, 1), stride=(1, 1), bias=False)\n",
              "          (bn3): FrozenBatchNorm2d(512, eps=0.0)\n",
              "          (relu): ReLU(inplace=True)\n",
              "        )\n",
              "      )\n",
              "      (layer3): Sequential(\n",
              "        (0): Bottleneck(\n",
              "          (conv1): Conv2d(512, 256, kernel_size=(1, 1), stride=(1, 1), bias=False)\n",
              "          (bn1): FrozenBatchNorm2d(256, eps=0.0)\n",
              "          (conv2): Conv2d(256, 256, kernel_size=(3, 3), stride=(2, 2), padding=(1, 1), bias=False)\n",
              "          (bn2): FrozenBatchNorm2d(256, eps=0.0)\n",
              "          (conv3): Conv2d(256, 1024, kernel_size=(1, 1), stride=(1, 1), bias=False)\n",
              "          (bn3): FrozenBatchNorm2d(1024, eps=0.0)\n",
              "          (relu): ReLU(inplace=True)\n",
              "          (downsample): Sequential(\n",
              "            (0): Conv2d(512, 1024, kernel_size=(1, 1), stride=(2, 2), bias=False)\n",
              "            (1): FrozenBatchNorm2d(1024, eps=0.0)\n",
              "          )\n",
              "        )\n",
              "        (1): Bottleneck(\n",
              "          (conv1): Conv2d(1024, 256, kernel_size=(1, 1), stride=(1, 1), bias=False)\n",
              "          (bn1): FrozenBatchNorm2d(256, eps=0.0)\n",
              "          (conv2): Conv2d(256, 256, kernel_size=(3, 3), stride=(1, 1), padding=(1, 1), bias=False)\n",
              "          (bn2): FrozenBatchNorm2d(256, eps=0.0)\n",
              "          (conv3): Conv2d(256, 1024, kernel_size=(1, 1), stride=(1, 1), bias=False)\n",
              "          (bn3): FrozenBatchNorm2d(1024, eps=0.0)\n",
              "          (relu): ReLU(inplace=True)\n",
              "        )\n",
              "        (2): Bottleneck(\n",
              "          (conv1): Conv2d(1024, 256, kernel_size=(1, 1), stride=(1, 1), bias=False)\n",
              "          (bn1): FrozenBatchNorm2d(256, eps=0.0)\n",
              "          (conv2): Conv2d(256, 256, kernel_size=(3, 3), stride=(1, 1), padding=(1, 1), bias=False)\n",
              "          (bn2): FrozenBatchNorm2d(256, eps=0.0)\n",
              "          (conv3): Conv2d(256, 1024, kernel_size=(1, 1), stride=(1, 1), bias=False)\n",
              "          (bn3): FrozenBatchNorm2d(1024, eps=0.0)\n",
              "          (relu): ReLU(inplace=True)\n",
              "        )\n",
              "        (3): Bottleneck(\n",
              "          (conv1): Conv2d(1024, 256, kernel_size=(1, 1), stride=(1, 1), bias=False)\n",
              "          (bn1): FrozenBatchNorm2d(256, eps=0.0)\n",
              "          (conv2): Conv2d(256, 256, kernel_size=(3, 3), stride=(1, 1), padding=(1, 1), bias=False)\n",
              "          (bn2): FrozenBatchNorm2d(256, eps=0.0)\n",
              "          (conv3): Conv2d(256, 1024, kernel_size=(1, 1), stride=(1, 1), bias=False)\n",
              "          (bn3): FrozenBatchNorm2d(1024, eps=0.0)\n",
              "          (relu): ReLU(inplace=True)\n",
              "        )\n",
              "        (4): Bottleneck(\n",
              "          (conv1): Conv2d(1024, 256, kernel_size=(1, 1), stride=(1, 1), bias=False)\n",
              "          (bn1): FrozenBatchNorm2d(256, eps=0.0)\n",
              "          (conv2): Conv2d(256, 256, kernel_size=(3, 3), stride=(1, 1), padding=(1, 1), bias=False)\n",
              "          (bn2): FrozenBatchNorm2d(256, eps=0.0)\n",
              "          (conv3): Conv2d(256, 1024, kernel_size=(1, 1), stride=(1, 1), bias=False)\n",
              "          (bn3): FrozenBatchNorm2d(1024, eps=0.0)\n",
              "          (relu): ReLU(inplace=True)\n",
              "        )\n",
              "        (5): Bottleneck(\n",
              "          (conv1): Conv2d(1024, 256, kernel_size=(1, 1), stride=(1, 1), bias=False)\n",
              "          (bn1): FrozenBatchNorm2d(256, eps=0.0)\n",
              "          (conv2): Conv2d(256, 256, kernel_size=(3, 3), stride=(1, 1), padding=(1, 1), bias=False)\n",
              "          (bn2): FrozenBatchNorm2d(256, eps=0.0)\n",
              "          (conv3): Conv2d(256, 1024, kernel_size=(1, 1), stride=(1, 1), bias=False)\n",
              "          (bn3): FrozenBatchNorm2d(1024, eps=0.0)\n",
              "          (relu): ReLU(inplace=True)\n",
              "        )\n",
              "      )\n",
              "      (layer4): Sequential(\n",
              "        (0): Bottleneck(\n",
              "          (conv1): Conv2d(1024, 512, kernel_size=(1, 1), stride=(1, 1), bias=False)\n",
              "          (bn1): FrozenBatchNorm2d(512, eps=0.0)\n",
              "          (conv2): Conv2d(512, 512, kernel_size=(3, 3), stride=(2, 2), padding=(1, 1), bias=False)\n",
              "          (bn2): FrozenBatchNorm2d(512, eps=0.0)\n",
              "          (conv3): Conv2d(512, 2048, kernel_size=(1, 1), stride=(1, 1), bias=False)\n",
              "          (bn3): FrozenBatchNorm2d(2048, eps=0.0)\n",
              "          (relu): ReLU(inplace=True)\n",
              "          (downsample): Sequential(\n",
              "            (0): Conv2d(1024, 2048, kernel_size=(1, 1), stride=(2, 2), bias=False)\n",
              "            (1): FrozenBatchNorm2d(2048, eps=0.0)\n",
              "          )\n",
              "        )\n",
              "        (1): Bottleneck(\n",
              "          (conv1): Conv2d(2048, 512, kernel_size=(1, 1), stride=(1, 1), bias=False)\n",
              "          (bn1): FrozenBatchNorm2d(512, eps=0.0)\n",
              "          (conv2): Conv2d(512, 512, kernel_size=(3, 3), stride=(1, 1), padding=(1, 1), bias=False)\n",
              "          (bn2): FrozenBatchNorm2d(512, eps=0.0)\n",
              "          (conv3): Conv2d(512, 2048, kernel_size=(1, 1), stride=(1, 1), bias=False)\n",
              "          (bn3): FrozenBatchNorm2d(2048, eps=0.0)\n",
              "          (relu): ReLU(inplace=True)\n",
              "        )\n",
              "        (2): Bottleneck(\n",
              "          (conv1): Conv2d(2048, 512, kernel_size=(1, 1), stride=(1, 1), bias=False)\n",
              "          (bn1): FrozenBatchNorm2d(512, eps=0.0)\n",
              "          (conv2): Conv2d(512, 512, kernel_size=(3, 3), stride=(1, 1), padding=(1, 1), bias=False)\n",
              "          (bn2): FrozenBatchNorm2d(512, eps=0.0)\n",
              "          (conv3): Conv2d(512, 2048, kernel_size=(1, 1), stride=(1, 1), bias=False)\n",
              "          (bn3): FrozenBatchNorm2d(2048, eps=0.0)\n",
              "          (relu): ReLU(inplace=True)\n",
              "        )\n",
              "      )\n",
              "    )\n",
              "    (fpn): FeaturePyramidNetwork(\n",
              "      (inner_blocks): ModuleList(\n",
              "        (0): Conv2dNormActivation(\n",
              "          (0): Conv2d(256, 256, kernel_size=(1, 1), stride=(1, 1))\n",
              "        )\n",
              "        (1): Conv2dNormActivation(\n",
              "          (0): Conv2d(512, 256, kernel_size=(1, 1), stride=(1, 1))\n",
              "        )\n",
              "        (2): Conv2dNormActivation(\n",
              "          (0): Conv2d(1024, 256, kernel_size=(1, 1), stride=(1, 1))\n",
              "        )\n",
              "        (3): Conv2dNormActivation(\n",
              "          (0): Conv2d(2048, 256, kernel_size=(1, 1), stride=(1, 1))\n",
              "        )\n",
              "      )\n",
              "      (layer_blocks): ModuleList(\n",
              "        (0-3): 4 x Conv2dNormActivation(\n",
              "          (0): Conv2d(256, 256, kernel_size=(3, 3), stride=(1, 1), padding=(1, 1))\n",
              "        )\n",
              "      )\n",
              "      (extra_blocks): LastLevelMaxPool()\n",
              "    )\n",
              "  )\n",
              "  (rpn): RegionProposalNetwork(\n",
              "    (anchor_generator): AnchorGenerator()\n",
              "    (head): RPNHead(\n",
              "      (conv): Sequential(\n",
              "        (0): Conv2dNormActivation(\n",
              "          (0): Conv2d(256, 256, kernel_size=(3, 3), stride=(1, 1), padding=(1, 1))\n",
              "          (1): ReLU(inplace=True)\n",
              "        )\n",
              "      )\n",
              "      (cls_logits): Conv2d(256, 3, kernel_size=(1, 1), stride=(1, 1))\n",
              "      (bbox_pred): Conv2d(256, 12, kernel_size=(1, 1), stride=(1, 1))\n",
              "    )\n",
              "  )\n",
              "  (roi_heads): RoIHeads(\n",
              "    (box_roi_pool): MultiScaleRoIAlign(featmap_names=['0', '1', '2', '3'], output_size=(7, 7), sampling_ratio=2)\n",
              "    (box_head): TwoMLPHead(\n",
              "      (fc6): Linear(in_features=12544, out_features=1024, bias=True)\n",
              "      (fc7): Linear(in_features=1024, out_features=1024, bias=True)\n",
              "    )\n",
              "    (box_predictor): FastRCNNPredictor(\n",
              "      (cls_score): Linear(in_features=1024, out_features=10, bias=True)\n",
              "      (bbox_pred): Linear(in_features=1024, out_features=40, bias=True)\n",
              "    )\n",
              "  )\n",
              ")"
            ]
          },
          "execution_count": 16,
          "metadata": {},
          "output_type": "execute_result"
        }
      ],
      "source": [
        "import torchvision\n",
        "from torchvision.models.detection.faster_rcnn import FastRCNNPredictor\n",
        "\n",
        "# load a model pre-trained pre-trained\n",
        "model = torchvision.models.detection.fasterrcnn_resnet50_fpn(pretrained=True)\n",
        "\n",
        "# replace the classifier with a new one, that has\n",
        "# num_classes which is user-defined\n",
        "num_classes = 10  # 1 class (person) + background\n",
        "# get number of input features for the classifier\n",
        "in_features = model.roi_heads.box_predictor.cls_score.in_features\n",
        "# replace the pre-trained head with a new one\n",
        "model.roi_heads.box_predictor = FastRCNNPredictor(in_features, num_classes)\n",
        "\n",
        "# move model to the right device\n",
        "model.to(device)"
      ]
    },
    {
      "cell_type": "code",
      "execution_count": null,
      "id": "0cfc5a24-c824-40b3-a975-2d91a66737b3",
      "metadata": {
        "id": "0cfc5a24-c824-40b3-a975-2d91a66737b3"
      },
      "outputs": [],
      "source": [
        "save_path = '/data/cmpe258-sp24/miaosen/CMPE249/HW_1/working/final_model_3.pth'"
      ]
    },
    {
      "cell_type": "code",
      "execution_count": null,
      "id": "bce13e44-f7d9-47d7-957b-fb7f0e7ddb41",
      "metadata": {
        "id": "bce13e44-f7d9-47d7-957b-fb7f0e7ddb41",
        "outputId": "b5eb6900-f521-46a0-b3d1-c15127d43bbb"
      },
      "outputs": [
        {
          "name": "stderr",
          "output_type": "stream",
          "text": [
            "/tmp/ipykernel_27451/2812834572.py:1: FutureWarning: You are using `torch.load` with `weights_only=False` (the current default value), which uses the default pickle module implicitly. It is possible to construct malicious pickle data which will execute arbitrary code during unpickling (See https://github.com/pytorch/pytorch/blob/main/SECURITY.md#untrusted-models for more details). In a future release, the default value for `weights_only` will be flipped to `True`. This limits the functions that could be executed during unpickling. Arbitrary objects will no longer be allowed to be loaded via this mode unless they are explicitly allowlisted by the user via `torch.serialization.add_safe_globals`. We recommend you start setting `weights_only=True` for any use case where you don't have full control of the loaded file. Please open an issue on GitHub for any issues related to this experimental feature.\n",
            "  model.load_state_dict(torch.load(save_path, map_location=torch.device('cpu')))\n"
          ]
        },
        {
          "data": {
            "text/plain": [
              "<All keys matched successfully>"
            ]
          },
          "execution_count": 19,
          "metadata": {},
          "output_type": "execute_result"
        }
      ],
      "source": [
        "model.load_state_dict(torch.load(save_path, map_location=torch.device(device)))"
      ]
    },
    {
      "cell_type": "code",
      "execution_count": null,
      "id": "de01f39e-1cbe-417b-9e0d-d8039cca9bcb",
      "metadata": {
        "id": "de01f39e-1cbe-417b-9e0d-d8039cca9bcb"
      },
      "outputs": [],
      "source": [
        "save_path = '/data/cmpe258-sp24/miaosen/CMPE249/HW_1/working/final_model_3.pth'"
      ]
    },
    {
      "cell_type": "code",
      "execution_count": null,
      "id": "c088032b-df31-44a5-94d1-dec705d12726",
      "metadata": {
        "id": "c088032b-df31-44a5-94d1-dec705d12726",
        "outputId": "61ac001d-004f-47bb-8aa5-d0c63d52f4be"
      },
      "outputs": [
        {
          "name": "stderr",
          "output_type": "stream",
          "text": [
            "Processing:   0%|                                                                                     | 0/25 [00:00<?, ?it/s]"
          ]
        },
        {
          "name": "stdout",
          "output_type": "stream",
          "text": [
            "Epoch: 1/25, Loss: 0.4099661111831665\n"
          ]
        },
        {
          "name": "stderr",
          "output_type": "stream",
          "text": [
            "Processing:   4%|██▉                                                                       | 1/25 [12:02<4:49:03, 722.65s/it]"
          ]
        },
        {
          "name": "stdout",
          "output_type": "stream",
          "text": [
            "Model saved to '/data/cmpe258-sp24/miaosen/CMPE249/HW_1/working/final_model_3.pth'\n",
            "Epoch: 2/25, Loss: 0.3676679730415344\n"
          ]
        },
        {
          "name": "stderr",
          "output_type": "stream",
          "text": [
            "Processing:   8%|█████▉                                                                    | 2/25 [24:01<4:36:09, 720.43s/it]"
          ]
        },
        {
          "name": "stdout",
          "output_type": "stream",
          "text": [
            "Model saved to '/data/cmpe258-sp24/miaosen/CMPE249/HW_1/working/final_model_3.pth'\n",
            "Epoch: 3/25, Loss: 0.40374472737312317\n"
          ]
        },
        {
          "name": "stderr",
          "output_type": "stream",
          "text": [
            "Processing:  12%|████████▉                                                                 | 3/25 [36:02<4:24:16, 720.75s/it]"
          ]
        },
        {
          "name": "stdout",
          "output_type": "stream",
          "text": [
            "Model saved to '/data/cmpe258-sp24/miaosen/CMPE249/HW_1/working/final_model_3.pth'\n",
            "Epoch: 4/25, Loss: 0.3187902569770813\n"
          ]
        },
        {
          "name": "stderr",
          "output_type": "stream",
          "text": [
            "Processing:  16%|███████████▊                                                              | 4/25 [48:00<4:11:52, 719.65s/it]"
          ]
        },
        {
          "name": "stdout",
          "output_type": "stream",
          "text": [
            "Model saved to '/data/cmpe258-sp24/miaosen/CMPE249/HW_1/working/final_model_3.pth'\n",
            "Epoch: 5/25, Loss: 0.30164363980293274\n"
          ]
        },
        {
          "name": "stderr",
          "output_type": "stream",
          "text": [
            "Processing:  20%|██████████████▊                                                           | 5/25 [59:59<3:59:50, 719.51s/it]"
          ]
        },
        {
          "name": "stdout",
          "output_type": "stream",
          "text": [
            "Model saved to '/data/cmpe258-sp24/miaosen/CMPE249/HW_1/working/final_model_3.pth'\n",
            "Epoch: 6/25, Loss: 0.27550289034843445\n"
          ]
        },
        {
          "name": "stderr",
          "output_type": "stream",
          "text": [
            "Processing:  24%|█████████████████▎                                                      | 6/25 [1:11:58<3:47:46, 719.27s/it]"
          ]
        },
        {
          "name": "stdout",
          "output_type": "stream",
          "text": [
            "Model saved to '/data/cmpe258-sp24/miaosen/CMPE249/HW_1/working/final_model_3.pth'\n",
            "Epoch: 7/25, Loss: 0.24123072624206543\n"
          ]
        },
        {
          "name": "stderr",
          "output_type": "stream",
          "text": [
            "Processing:  28%|████████████████████▏                                                   | 7/25 [1:23:56<3:35:40, 718.89s/it]"
          ]
        },
        {
          "name": "stdout",
          "output_type": "stream",
          "text": [
            "Model saved to '/data/cmpe258-sp24/miaosen/CMPE249/HW_1/working/final_model_3.pth'\n",
            "Epoch: 8/25, Loss: 0.35506439208984375\n"
          ]
        },
        {
          "name": "stderr",
          "output_type": "stream",
          "text": [
            "Processing:  32%|███████████████████████                                                 | 8/25 [1:35:56<3:23:43, 719.03s/it]"
          ]
        },
        {
          "name": "stdout",
          "output_type": "stream",
          "text": [
            "Model saved to '/data/cmpe258-sp24/miaosen/CMPE249/HW_1/working/final_model_3.pth'\n",
            "Epoch: 9/25, Loss: 0.23902638256549835\n"
          ]
        },
        {
          "name": "stderr",
          "output_type": "stream",
          "text": [
            "Processing:  36%|█████████████████████████▉                                              | 9/25 [1:47:54<3:11:43, 718.97s/it]"
          ]
        },
        {
          "name": "stdout",
          "output_type": "stream",
          "text": [
            "Model saved to '/data/cmpe258-sp24/miaosen/CMPE249/HW_1/working/final_model_3.pth'\n",
            "Epoch: 10/25, Loss: 0.3400615155696869\n"
          ]
        },
        {
          "name": "stderr",
          "output_type": "stream",
          "text": [
            "Processing:  40%|████████████████████████████▍                                          | 10/25 [1:59:53<2:59:43, 718.93s/it]"
          ]
        },
        {
          "name": "stdout",
          "output_type": "stream",
          "text": [
            "Model saved to '/data/cmpe258-sp24/miaosen/CMPE249/HW_1/working/final_model_3.pth'\n",
            "Epoch: 11/25, Loss: 0.367064893245697\n"
          ]
        },
        {
          "name": "stderr",
          "output_type": "stream",
          "text": [
            "Processing:  44%|███████████████████████████████▏                                       | 11/25 [2:11:53<2:47:46, 719.07s/it]"
          ]
        },
        {
          "name": "stdout",
          "output_type": "stream",
          "text": [
            "Model saved to '/data/cmpe258-sp24/miaosen/CMPE249/HW_1/working/final_model_3.pth'\n",
            "Epoch: 12/25, Loss: 0.3497505784034729\n"
          ]
        },
        {
          "name": "stderr",
          "output_type": "stream",
          "text": [
            "Processing:  48%|██████████████████████████████████                                     | 12/25 [2:23:53<2:35:51, 719.32s/it]"
          ]
        },
        {
          "name": "stdout",
          "output_type": "stream",
          "text": [
            "Model saved to '/data/cmpe258-sp24/miaosen/CMPE249/HW_1/working/final_model_3.pth'\n",
            "Epoch: 13/25, Loss: 0.2871348559856415\n"
          ]
        },
        {
          "name": "stderr",
          "output_type": "stream",
          "text": [
            "Processing:  52%|████████████████████████████████████▉                                  | 13/25 [2:35:52<2:23:51, 719.32s/it]"
          ]
        },
        {
          "name": "stdout",
          "output_type": "stream",
          "text": [
            "Model saved to '/data/cmpe258-sp24/miaosen/CMPE249/HW_1/working/final_model_3.pth'\n",
            "Epoch: 14/25, Loss: 0.37905365228652954\n"
          ]
        },
        {
          "name": "stderr",
          "output_type": "stream",
          "text": [
            "Processing:  56%|███████████████████████████████████████▊                               | 14/25 [2:47:51<2:11:52, 719.28s/it]"
          ]
        },
        {
          "name": "stdout",
          "output_type": "stream",
          "text": [
            "Model saved to '/data/cmpe258-sp24/miaosen/CMPE249/HW_1/working/final_model_3.pth'\n",
            "Epoch: 15/25, Loss: 0.2433825433254242\n"
          ]
        },
        {
          "name": "stderr",
          "output_type": "stream",
          "text": [
            "Processing:  60%|██████████████████████████████████████████▌                            | 15/25 [2:59:51<1:59:55, 719.57s/it]"
          ]
        },
        {
          "name": "stdout",
          "output_type": "stream",
          "text": [
            "Model saved to '/data/cmpe258-sp24/miaosen/CMPE249/HW_1/working/final_model_3.pth'\n",
            "Epoch: 16/25, Loss: 0.2944604754447937\n"
          ]
        },
        {
          "name": "stderr",
          "output_type": "stream",
          "text": [
            "Processing:  64%|█████████████████████████████████████████████▍                         | 16/25 [3:11:50<1:47:52, 719.22s/it]"
          ]
        },
        {
          "name": "stdout",
          "output_type": "stream",
          "text": [
            "Model saved to '/data/cmpe258-sp24/miaosen/CMPE249/HW_1/working/final_model_3.pth'\n",
            "Epoch: 17/25, Loss: 0.27428725361824036\n"
          ]
        },
        {
          "name": "stderr",
          "output_type": "stream",
          "text": [
            "Processing:  68%|████████████████████████████████████████████████▎                      | 17/25 [3:23:50<1:35:56, 719.61s/it]"
          ]
        },
        {
          "name": "stdout",
          "output_type": "stream",
          "text": [
            "Model saved to '/data/cmpe258-sp24/miaosen/CMPE249/HW_1/working/final_model_3.pth'\n",
            "Epoch: 18/25, Loss: 0.33914101123809814\n"
          ]
        },
        {
          "name": "stderr",
          "output_type": "stream",
          "text": [
            "Processing:  72%|███████████████████████████████████████████████████                    | 18/25 [3:35:50<1:23:56, 719.53s/it]"
          ]
        },
        {
          "name": "stdout",
          "output_type": "stream",
          "text": [
            "Model saved to '/data/cmpe258-sp24/miaosen/CMPE249/HW_1/working/final_model_3.pth'\n",
            "Epoch: 19/25, Loss: 0.33043575286865234\n"
          ]
        },
        {
          "name": "stderr",
          "output_type": "stream",
          "text": [
            "Processing:  76%|█████████████████████████████████████████████████████▉                 | 19/25 [3:47:50<1:11:58, 719.77s/it]"
          ]
        },
        {
          "name": "stdout",
          "output_type": "stream",
          "text": [
            "Model saved to '/data/cmpe258-sp24/miaosen/CMPE249/HW_1/working/final_model_3.pth'\n"
          ]
        }
      ],
      "source": [
        "# Define optimizer\n",
        "params = [p for p in model.parameters() if p.requires_grad]\n",
        "optimizer = torch.optim.SGD(params, lr=0.005, momentum=0.9, weight_decay=0.0005)\n",
        "\n",
        "# Learning rate scheduler\n",
        "lr_scheduler = torch.optim.lr_scheduler.StepLR(optimizer, step_size=3, gamma=0.1)\n",
        "\n",
        "# Number of epochs\n",
        "num_epochs = 25\n",
        "i = 0\n",
        "\n",
        "for epoch in tqdm(range(num_epochs), desc=\"Processing\"):\n",
        "    model.train()\n",
        "    for images, targets in data_loader:\n",
        "        images = list(image.to(device) for image in images)\n",
        "        targets = [{k: v.to(device) for k, v in t.items()} for t in targets]\n",
        "        loss_dict = model(images, targets)\n",
        "        losses = sum(loss for loss in loss_dict.values())\n",
        "\n",
        "        optimizer.zero_grad()\n",
        "        losses.backward()\n",
        "        optimizer.step()\n",
        "\n",
        "    print(f\"Epoch: {epoch+1}/{num_epochs}, Loss: {losses.item()}\")\n",
        "    lr_scheduler.step()\n",
        "    torch.save(model.state_dict(), save_path)\n",
        "    print(f\"Model saved to '{save_path}'\")"
      ]
    },
    {
      "cell_type": "code",
      "execution_count": null,
      "id": "e70f5d2c-f7cd-424e-841e-b3747c811703",
      "metadata": {
        "id": "e70f5d2c-f7cd-424e-841e-b3747c811703",
        "outputId": "f8821d66-a9e5-4e81-c52a-c926e0526433"
      },
      "outputs": [
        {
          "name": "stderr",
          "output_type": "stream",
          "text": [
            "Processing:   0%|                                                                                      | 0/6 [00:00<?, ?it/s]"
          ]
        },
        {
          "name": "stdout",
          "output_type": "stream",
          "text": [
            "Epoch: 1/6, Loss: 0.3237442374229431\n"
          ]
        },
        {
          "name": "stderr",
          "output_type": "stream",
          "text": [
            "Processing:  17%|████████████▊                                                                | 1/6 [11:58<59:52, 718.43s/it]"
          ]
        },
        {
          "name": "stdout",
          "output_type": "stream",
          "text": [
            "Model saved to '/data/cmpe258-sp24/miaosen/CMPE249/HW_1/working/final_model_3.pth'\n",
            "Epoch: 2/6, Loss: 0.3392223119735718\n"
          ]
        },
        {
          "name": "stderr",
          "output_type": "stream",
          "text": [
            "Processing:  33%|█████████████████████████▋                                                   | 2/6 [23:57<47:55, 718.91s/it]"
          ]
        },
        {
          "name": "stdout",
          "output_type": "stream",
          "text": [
            "Model saved to '/data/cmpe258-sp24/miaosen/CMPE249/HW_1/working/final_model_3.pth'\n",
            "Epoch: 3/6, Loss: 0.3051171898841858\n"
          ]
        },
        {
          "name": "stderr",
          "output_type": "stream",
          "text": [
            "Processing:  50%|██████████████████████████████████████▌                                      | 3/6 [35:58<35:58, 719.59s/it]"
          ]
        },
        {
          "name": "stdout",
          "output_type": "stream",
          "text": [
            "Model saved to '/data/cmpe258-sp24/miaosen/CMPE249/HW_1/working/final_model_3.pth'\n",
            "Epoch: 4/6, Loss: 0.267776757478714\n"
          ]
        },
        {
          "name": "stderr",
          "output_type": "stream",
          "text": [
            "Processing:  67%|███████████████████████████████████████████████████▎                         | 4/6 [47:57<23:59, 719.71s/it]"
          ]
        },
        {
          "name": "stdout",
          "output_type": "stream",
          "text": [
            "Model saved to '/data/cmpe258-sp24/miaosen/CMPE249/HW_1/working/final_model_3.pth'\n",
            "Epoch: 5/6, Loss: 0.2320021241903305\n"
          ]
        },
        {
          "name": "stderr",
          "output_type": "stream",
          "text": [
            "Processing:  83%|████████████████████████████████████████████████████████████████▏            | 5/6 [59:57<11:59, 719.70s/it]"
          ]
        },
        {
          "name": "stdout",
          "output_type": "stream",
          "text": [
            "Model saved to '/data/cmpe258-sp24/miaosen/CMPE249/HW_1/working/final_model_3.pth'\n",
            "Epoch: 6/6, Loss: 0.21874189376831055\n"
          ]
        },
        {
          "name": "stderr",
          "output_type": "stream",
          "text": [
            "Processing: 100%|███████████████████████████████████████████████████████████████████████████| 6/6 [1:11:57<00:00, 719.64s/it]"
          ]
        },
        {
          "name": "stdout",
          "output_type": "stream",
          "text": [
            "Model saved to '/data/cmpe258-sp24/miaosen/CMPE249/HW_1/working/final_model_3.pth'\n"
          ]
        },
        {
          "name": "stderr",
          "output_type": "stream",
          "text": [
            "\n"
          ]
        }
      ],
      "source": [
        "# Define optimizer\n",
        "params = [p for p in model.parameters() if p.requires_grad]\n",
        "optimizer = torch.optim.SGD(params, lr=0.005, momentum=0.9, weight_decay=0.0005)\n",
        "\n",
        "# Learning rate scheduler\n",
        "lr_scheduler = torch.optim.lr_scheduler.StepLR(optimizer, step_size=3, gamma=0.1)\n",
        "\n",
        "# Number of epochs\n",
        "num_epochs = 25-19\n",
        "i = 0\n",
        "\n",
        "for epoch in tqdm(range(num_epochs), desc=\"Processing\"):\n",
        "    model.train()\n",
        "    for images, targets in data_loader:\n",
        "        images = list(image.to(device) for image in images)\n",
        "        targets = [{k: v.to(device) for k, v in t.items()} for t in targets]\n",
        "        loss_dict = model(images, targets)\n",
        "        losses = sum(loss for loss in loss_dict.values())\n",
        "\n",
        "        optimizer.zero_grad()\n",
        "        losses.backward()\n",
        "        optimizer.step()\n",
        "\n",
        "    print(f\"Epoch: {epoch+1}/{num_epochs}, Loss: {losses.item()}\")\n",
        "    lr_scheduler.step()\n",
        "    torch.save(model.state_dict(), save_path)\n",
        "    print(f\"Model saved to '{save_path}'\")"
      ]
    },
    {
      "cell_type": "code",
      "source": [
        "training_loss = [0.5486985445022583, 0.5177141427993774, 0.3774336874485016, 0.2998450696468353, 0.4477429986000061, 0.42523491382598877,\n",
        "                0.28533148765563965, 0.3745960295200348, 0.3087141215801239, 0.41189268231391907, 0.4973844289779663, 0.39810168743133545,\n",
        "                0.44491779804229736, 0.4469603896141052, 0.32026392221450806, 0.3636575937271118, 0.33206406235694885, 0.4269688129425049,\n",
        "                0.44354248046875, 0.4131874442100525, 0.32151132822036743, 0.34521880745887756, 0.3112267851829529, 0.398506224155426,\n",
        "                0.38528257608413696, 0.39250510931015015, 0.42429405450820923, 0.4108785092830658, 0.3676679730415344, 0.40374472737312317,\n",
        "                0.3187902569770813, 0.30164363980293274, 0.27550289034843445, 0.24123072624206543, 0.35506439208984375, 0.23902638256549835,\n",
        "                0.3400615155696869, 0.367064893245697, 0.3497505784034729, 0.2871348559856415, 0.37905365228652954, 0.2433825433254242, 0.2944604754447937,\n",
        "                0.27428725361824036, 0.33914101123809814, 0.33043575286865234, 0.3392223119735718, 0.3051171898841858, 0.267776757478714, 0.2320021241903305,\n",
        "                0.21874189376831055 ]"
      ],
      "metadata": {
        "id": "Tebg6j4X9lMZ"
      },
      "id": "Tebg6j4X9lMZ",
      "execution_count": null,
      "outputs": []
    }
  ],
  "metadata": {
    "kernelspec": {
      "display_name": "Python 3 (ipykernel)",
      "language": "python",
      "name": "python3"
    },
    "language_info": {
      "codemirror_mode": {
        "name": "ipython",
        "version": 3
      },
      "file_extension": ".py",
      "mimetype": "text/x-python",
      "name": "python",
      "nbconvert_exporter": "python",
      "pygments_lexer": "ipython3",
      "version": "3.11.9"
    },
    "colab": {
      "provenance": []
    }
  },
  "nbformat": 4,
  "nbformat_minor": 5
}